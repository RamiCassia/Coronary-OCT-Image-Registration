{
 "cells": [
  {
   "cell_type": "code",
   "execution_count": 2,
   "metadata": {},
   "outputs": [],
   "source": [
    "import numpy as np\n",
    "import matplotlib.pyplot as plt\n",
    "import nibabel as nib\n",
    "import os\n",
    "from PIL import Image\n",
    "\n",
    "#Function takes as input the path to nii.gz file, and the maximum distance of the catheter inside the patient (in mm)\n",
    "\n",
    "def slice_ni(path, max_cath_dist):\n",
    "    \n",
    "    # Load a particular nii.gz file\n",
    "    stacked_img = nib.load(path) \n",
    "    \n",
    "    # Convert Image object to numpy array \n",
    "    stacked_array = np.array(stacked_img.dataobj) \n",
    "\n",
    "    # Specify dimensions\n",
    "    width = np.size(stacked_array, axis = 0)\n",
    "    height = np.size(stacked_array, axis = 1)\n",
    "    depth = np.size(stacked_array, axis =2)\n",
    "    channels = 3\n",
    "    \n",
    "    # Catheter position ranges from 1mm to 55mm and we assume constant pullback speed\n",
    "    points = [(1,1),(depth, max_cath_dist)] \n",
    "    x_coords, y_coords = zip(*points)\n",
    "    A = np.vstack([x_coords,np.ones(len(x_coords))]).T\n",
    "    m, c = np.linalg.lstsq(A, y_coords)[0]\n",
    "\n",
    "    for i in range(depth):\n",
    "    \n",
    "        slice_array = stacked_array[:,:,i]\n",
    "\n",
    "        # Create an empty image\n",
    "        img = np.zeros((height, width, channels), dtype=np.uint8)\n",
    "\n",
    "        # Set the RGB values (array of 3-tuples must be converted to an array of depth 3, one for each channel)\n",
    "        for y in range(img.shape[0]):\n",
    "            for x in range(img.shape[1]):\n",
    "            \n",
    "                img[y][x][0] = slice_array[x,y][0] #R\n",
    "                img[y][x][1] = slice_array[x,y][1] #G\n",
    "                img[y][x][2] = slice_array[x,y][2] #B\n",
    "        \n",
    "        # Correct image orientation\n",
    "        img = np.flipud(img)\n",
    "        img = np.fliplr(img)\n",
    "        \n",
    "        # Naming format of .png images are *_(slice number)_(position in mm).png\n",
    "        im = Image.fromarray(img)\n",
    "        im.save('./files/image_' + str(i+1) + '_' + str(np.round((m*(i+1) + c), 2)) + '.png')"
   ]
  }
 ],
 "metadata": {
  "kernelspec": {
   "display_name": "Python 3",
   "language": "python",
   "name": "python3"
  },
  "language_info": {
   "codemirror_mode": {
    "name": "ipython",
    "version": 3
   },
   "file_extension": ".py",
   "mimetype": "text/x-python",
   "name": "python",
   "nbconvert_exporter": "python",
   "pygments_lexer": "ipython3",
   "version": "3.8.10"
  }
 },
 "nbformat": 4,
 "nbformat_minor": 4
}
