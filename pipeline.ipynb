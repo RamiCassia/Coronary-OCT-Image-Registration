{
 "cells": [
  {
   "cell_type": "code",
   "execution_count": 2,
   "metadata": {},
   "outputs": [
    {
     "name": "stdout",
     "output_type": "stream",
     "text": [
      "Importing the dtw module. When using in academic works please cite:\n",
      "  T. Giorgino. Computing and Visualizing Dynamic Time Warping Alignments in R: The dtw Package.\n",
      "  J. Stat. Soft., doi:10.18637/jss.v031.i07.\n",
      "\n"
     ]
    }
   ],
   "source": [
    "import torch\n",
    "from BranchDetection.branch_detection_net import BranchDetector\n",
    "from BranchDetection.branch_detection_utils import load_checkpoint, predict_sidebranches\n",
    "import os\n",
    "from temporal_registration import temporal_registration # Do I need to import other functions this depends on as well?"
   ]
  },
  {
   "cell_type": "markdown",
   "metadata": {},
   "source": [
    "## Branch detection"
   ]
  },
  {
   "cell_type": "code",
   "execution_count": 3,
   "metadata": {},
   "outputs": [],
   "source": [
    "DEVICE = torch.device(\"cpu\")\n",
    "CHECKPOINT_FILE = \"/store/DAMTP/cr661/OCTImaging/checkpoints/lr0001\"\n",
    "IMG_PATH = \"/store/DAMTP/cr661/OCTImaging/data/5_Annotated_Files/SplittedImages\"\n",
    "IMG_NAME = \"IBIS4_453-636-202_LAD_NI_B_BL_2.png\""
   ]
  },
  {
   "cell_type": "code",
   "execution_count": 4,
   "metadata": {},
   "outputs": [],
   "source": [
    "! export CUDA_VISIBLE_DEVICES=1"
   ]
  },
  {
   "cell_type": "code",
   "execution_count": 5,
   "metadata": {},
   "outputs": [
    {
     "name": "stderr",
     "output_type": "stream",
     "text": [
      "/alt/applic/user-maint/cr661/conda_envs/oct/lib/python3.7/site-packages/torch/cuda/__init__.py:120: UserWarning: \n",
      "    Found GPU%d %s which is of cuda capability %d.%d.\n",
      "    PyTorch no longer supports this GPU because it is too old.\n",
      "    The minimum cuda capability supported by this library is %d.%d.\n",
      "    \n",
      "  warnings.warn(old_gpu_warn.format(d, name, major, minor, min_arch // 10, min_arch % 10))\n"
     ]
    }
   ],
   "source": [
    "# Initialise network\n",
    "branch_detector = BranchDetector(num_blocks=1, spatial_res=1024).to(DEVICE)\n",
    "branch_detector, _, _, _ = load_checkpoint(\n",
    "    checkpoint=CHECKPOINT_FILE,\n",
    "    model=branch_detector,\n",
    "    learning_rate=0,\n",
    "    device=DEVICE,\n",
    ")"
   ]
  },
  {
   "cell_type": "code",
   "execution_count": 6,
   "metadata": {},
   "outputs": [
    {
     "name": "stderr",
     "output_type": "stream",
     "text": [
      "/mhome/damtp/t/cr661/Projects/OCTimaging/BranchDetection/branch_detection_utils.py:37: UserWarning: Implicit dimension choice for softmax has been deprecated. Change the call to include dim=X as an argument.\n",
      "  softmax_pred = F.softmax(input=prediction)\n"
     ]
    }
   ],
   "source": [
    "# Prediction of sidebranches via trained neural network\n",
    "idx, slide_num, prediction = predict_sidebranches(\n",
    "    branch_detector=branch_detector,\n",
    "    img_path=IMG_PATH,\n",
    "    img_name=IMG_NAME,\n",
    "    device=DEVICE,\n",
    ")"
   ]
  },
  {
   "cell_type": "markdown",
   "metadata": {},
   "source": [
    "## Dynamic Time Warping"
   ]
  },
  {
   "cell_type": "code",
   "execution_count": 7,
   "metadata": {},
   "outputs": [],
   "source": [
    "patient_id = \"453-636-202\"\n",
    "artery = \"LAD\"\n",
    "measurements = [\"BL\", \"FUP\"]  # must be 2\n",
    "\n",
    "predictions = [None] * 2\n",
    "\n",
    "for i, m in enumerate(measurements):\n",
    "\n",
    "    filenames = next(os.walk(IMG_PATH), (None, None, []))[2]\n",
    "    imgs_of_interest = [\n",
    "        fn for fn in filenames if (patient_id in fn and artery in fn and m in fn)\n",
    "    ]\n",
    "    predictions_m = [None] * len(imgs_of_interest)\n",
    "\n",
    "    for img_name in imgs_of_interest:\n",
    "        _, slice, pred = predict_sidebranches(\n",
    "            img_name=img_name,\n",
    "            branch_detector=branch_detector,\n",
    "            img_path=IMG_PATH,\n",
    "            device=DEVICE,\n",
    "        )\n",
    "        predictions_m[slice - 1] = pred[1]\n",
    "\n",
    "    predictions[i] = predictions_m\n",
    "\n",
    "temp_reg = temporal_registration(\n",
    "    t1=predictions[0],\n",
    "    t2=predictions[1],\n",
    "    smoother=\"moving_median\",\n",
    "    smoothing_window=7,\n",
    "    discr_cutoff=0.9,\n",
    ")\n",
    "\n",
    "temp_reg_ind = [temp_reg[3], temp_reg[4]]\n",
    "# temp_reg[3] and temp_reg[4] are integer lists of the same length, giving corresponding slice indices for \"BL\" and \"FUP\" images at the same position within the lists."
   ]
  },
  {
   "cell_type": "code",
   "execution_count": null,
   "metadata": {},
   "outputs": [],
   "source": []
  }
 ],
 "metadata": {
  "interpreter": {
   "hash": "0740a49d5256e13ae93bf25560f7156affa4e909f5c239f10ae1635f10102d21"
  },
  "kernelspec": {
   "display_name": "Python 3.7.0 ('oct')",
   "language": "python",
   "name": "python3"
  },
  "language_info": {
   "codemirror_mode": {
    "name": "ipython",
    "version": 3
   },
   "file_extension": ".py",
   "mimetype": "text/x-python",
   "name": "python",
   "nbconvert_exporter": "python",
   "pygments_lexer": "ipython3",
   "version": "3.7.0"
  },
  "orig_nbformat": 4
 },
 "nbformat": 4,
 "nbformat_minor": 2
}
